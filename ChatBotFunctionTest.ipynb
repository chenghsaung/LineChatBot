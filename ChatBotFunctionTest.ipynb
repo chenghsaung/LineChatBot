{
 "cells": [
  {
   "cell_type": "code",
   "execution_count": null,
   "metadata": {},
   "outputs": [],
   "source": [
    "from linebot import LineBotApi\n",
    "from linebot.exceptions import LineBotApiError"
   ]
  },
  {
   "cell_type": "code",
   "execution_count": null,
   "metadata": {},
   "outputs": [],
   "source": [
    "from linebot.models import TextSendMessage\n",
    "CHANNEL_ACCESS_TOKEN = 'ahG3SbCDu1RG4P+qxRHQXLYnqFjAXjSn3zE1q+6OkSwgHt/6OoylT60gzjWHnsiVcT+o1k0fJltFvJ9sNwlo4DryCpTdFE6WCvUNrum/e7x4gJU5VcxFkibs421KBI+IRVxT8q1JBCDHKk0PR6XoEQdB04t89/1O/w1cDnyilFU='\n",
    "to = \"0921776269\""
   ]
  },
  {
   "cell_type": "code",
   "execution_count": 17,
   "metadata": {},
   "outputs": [],
   "source": [
    "import pandas as pd\n",
    "\n",
    "# field = [\"time\",\"team\",\"name\"]\n",
    "\n",
    "# userdata = {\"time\":[],\"team\":[],\"name\":[]}\n",
    "# mapdict = {\"早\":\"8:00-14:00\",\"晚\":\"19:00-2:00\"}"
   ]
  },
  {
   "cell_type": "code",
   "execution_count": 2,
   "metadata": {},
   "outputs": [
    {
     "data": {
      "text/plain": [
       "['team', 'name', 'time']"
      ]
     },
     "execution_count": 2,
     "metadata": {},
     "output_type": "execute_result"
    }
   ],
   "source": [
    "list(userdata)"
   ]
  },
  {
   "cell_type": "code",
   "execution_count": 3,
   "metadata": {},
   "outputs": [],
   "source": [
    "line1 = \"晚 1 jim\"\n",
    "linelist = line1.split(\" \")\n",
    "linelist\n",
    "for i in range(len(linelist)):\n",
    "    userdata[field[i]].append(linelist[i]) "
   ]
  },
  {
   "cell_type": "code",
   "execution_count": null,
   "metadata": {},
   "outputs": [],
   "source": [
    "userdata"
   ]
  },
  {
   "cell_type": "code",
   "execution_count": 4,
   "metadata": {},
   "outputs": [],
   "source": [
    "line2 = \"早 2 blacktea\"\n",
    "linelist2 = line2.split(\" \")\n",
    "for i in range(len(linelist2)):\n",
    "    userdata[field[i]].append(linelist2[i]) "
   ]
  },
  {
   "cell_type": "code",
   "execution_count": 5,
   "metadata": {},
   "outputs": [
    {
     "data": {
      "text/plain": [
       "{'name': ['jim', 'blacktea'], 'team': ['1', '2'], 'time': ['晚', '早']}"
      ]
     },
     "execution_count": 5,
     "metadata": {},
     "output_type": "execute_result"
    }
   ],
   "source": [
    "userdata"
   ]
  },
  {
   "cell_type": "code",
   "execution_count": null,
   "metadata": {},
   "outputs": [],
   "source": [
    "userDF = pd.DataFrame(userdata)\n",
    "userDF = userDF[field]\n",
    "userDF"
   ]
  },
  {
   "cell_type": "code",
   "execution_count": null,
   "metadata": {},
   "outputs": [],
   "source": [
    "userDF[\"time\"].replace(mapdict,inplace = True)"
   ]
  },
  {
   "cell_type": "code",
   "execution_count": null,
   "metadata": {},
   "outputs": [],
   "source": [
    "userDF.sort_values([\"time\"],ascending=False,inplace = True)"
   ]
  },
  {
   "cell_type": "code",
   "execution_count": null,
   "metadata": {},
   "outputs": [],
   "source": [
    "userDF.sort_values([\"team\"])"
   ]
  },
  {
   "cell_type": "code",
   "execution_count": null,
   "metadata": {},
   "outputs": [],
   "source": [
    "userDF.to_csv(\"userform.csv\",index=False)"
   ]
  },
  {
   "cell_type": "code",
   "execution_count": null,
   "metadata": {},
   "outputs": [],
   "source": [
    "with open (\"userform.csv\",\"r+\") as f:\n",
    "    file = f.read()\n",
    "    f.truncate()\n",
    "    print(file)"
   ]
  },
  {
   "cell_type": "code",
   "execution_count": null,
   "metadata": {},
   "outputs": [],
   "source": [
    "with open (\"userform.csv\",\"r+\") as f:\n",
    "    file = f.read()\n",
    "    f.seek(0)\n",
    "    f.truncate()\n",
    "    print(file)"
   ]
  },
  {
   "cell_type": "code",
   "execution_count": null,
   "metadata": {},
   "outputs": [],
   "source": [
    "with open (\"userform.csv\",\"r+\") as f:\n",
    "    file = f.read()\n",
    "    print(file)"
   ]
  },
  {
   "cell_type": "code",
   "execution_count": null,
   "metadata": {},
   "outputs": [],
   "source": [
    "time = userDF.groupby([\"team\",\"time\"])"
   ]
  },
  {
   "cell_type": "code",
   "execution_count": null,
   "metadata": {},
   "outputs": [],
   "source": [
    "time.groups"
   ]
  },
  {
   "cell_type": "code",
   "execution_count": null,
   "metadata": {},
   "outputs": [],
   "source": [
    "time.get_group((\"2\",\"早\"))#.to_csv(\"userform.csv\",index=False)"
   ]
  },
  {
   "cell_type": "code",
   "execution_count": null,
   "metadata": {},
   "outputs": [],
   "source": [
    "userDF.sort_values([\"time\",\"team\"])"
   ]
  },
  {
   "cell_type": "code",
   "execution_count": null,
   "metadata": {},
   "outputs": [],
   "source": [
    "string_empty_morning_1 = \"153-1 08:00～14:00\\n1. {a}\\n2. {b}\\n3. {b}\\n4. {d}\\n5. {e}\\n6. {f}\\n—————————\\n\"\n",
    "# string_empty_morning_2 = \"153-2 08:00～14:00\\n\"+\"1. {}\\n\" +\"2. {}\\n\"+\"3. {}\\n\"+\"4. {}\\n\"+\"5. {}\\n\"+\"6. {}\\n\"+\"—————————\\n\"\n",
    "# string_empty_night_1 = \"153-1 21:30～2:00\\n\"+\"1. {}\\n\" +\"2. {}\\n\"+\"3. {}\\n\"+\"4. {}\\n\"+\"5. {}\\n\"+\"6. {}\\n\"+\"—————————\\n\"\n",
    "# string_empty_night_2 = \"153-2 21:30～2:00\\n\"+\"1. {}\\n\" +\"2. {}\\n\"+\"3. {}\\n\"+\"4. {}\\n\"+\"5. {}\\n\"+\"6. {}\\n\"+\"—————————\\n\""
   ]
  },
  {
   "cell_type": "code",
   "execution_count": null,
   "metadata": {},
   "outputs": [],
   "source": [
    "mapd = {\"a\":\" \",\"b\":\" \",\"c\":\" \",\"d\":\" \",\"e\":\" \",\"f\":\" \",}\n",
    "mapd.update(a=20)\n",
    "print(\"153-1 08:00～14:00\\n1. {a}\\n2. {b}\\n3. {c}\\n4. {d}\\n5. {e}\\n6. {f}\\n—————————\\n\".format_map(mapd))"
   ]
  },
  {
   "cell_type": "code",
   "execution_count": null,
   "metadata": {},
   "outputs": [],
   "source": [
    "string_empty_morning_1 = string_empty_morning_1.format_map(mapd)\n",
    "print(string_empty_morning_1)"
   ]
  },
  {
   "cell_type": "code",
   "execution_count": null,
   "metadata": {},
   "outputs": [],
   "source": [
    "print(\"hello {}{}{}\".format(1,2))"
   ]
  },
  {
   "cell_type": "code",
   "execution_count": null,
   "metadata": {},
   "outputs": [],
   "source": [
    "point = {'x':4,'2':-5, '3': 0}\n",
    "print('{} {} {}'.format_map(point))"
   ]
  },
  {
   "cell_type": "code",
   "execution_count": null,
   "metadata": {},
   "outputs": [],
   "source": [
    "checkword = [\"羅政翔\",\"臭白目\"]\n",
    "stringg = \"看三小\"\n",
    "if any(ext in stringg for ext in checkword):\n",
    "    print(stringg)"
   ]
  },
  {
   "cell_type": "code",
   "execution_count": null,
   "metadata": {},
   "outputs": [],
   "source": [
    "list1 = [\"153-1 08:00～14:00\\n\",\"153-2 08:00～14:00\\n\"]\n",
    "for i in range(len(list1)):\n",
    "    print(list1[i])\n",
    "    for j in range(1,7):\n",
    "        print(str(j),\"\\t\",\" \\n\")\n",
    "    "
   ]
  },
  {
   "cell_type": "code",
   "execution_count": 10,
   "metadata": {},
   "outputs": [
    {
     "name": "stdout",
     "output_type": "stream",
     "text": [
      "time,team,name\n",
      "8:00-14:00,2,blacktea\n",
      "19:00-2:00,2,jim\n",
      "19:00-2:00,1,jim\n",
      "\n"
     ]
    }
   ],
   "source": [
    "with open(\"userform.csv\") as f:\n",
    "    line = f.read()\n",
    "    print(line)"
   ]
  },
  {
   "cell_type": "code",
   "execution_count": 22,
   "metadata": {},
   "outputs": [
    {
     "data": {
      "text/plain": [
       "['8:00-14:00', '2', 'blacktea']"
      ]
     },
     "execution_count": 22,
     "metadata": {},
     "output_type": "execute_result"
    }
   ],
   "source": [
    "line.splitlines()[1].split(\",\")"
   ]
  },
  {
   "cell_type": "code",
   "execution_count": 39,
   "metadata": {},
   "outputs": [
    {
     "name": "stdout",
     "output_type": "stream",
     "text": [
      "8:00-14:00\n",
      "2\n",
      "blacktea\n",
      "19:00-2:00\n",
      "2\n",
      "jim\n",
      "19:00-2:00\n",
      "1\n",
      "jim\n",
      "\n"
     ]
    }
   ],
   "source": [
    "test = \"\"\n",
    "for i in range(1,len(line.splitlines())):\n",
    "    for j in (line.splitlines()[i].split(\",\")):\n",
    "        test+=str(j)+\"\\n\"\n",
    "print(test)"
   ]
  },
  {
   "cell_type": "code",
   "execution_count": 26,
   "metadata": {},
   "outputs": [],
   "source": [
    "import sys,os"
   ]
  },
  {
   "cell_type": "code",
   "execution_count": 29,
   "metadata": {},
   "outputs": [
    {
     "data": {
      "text/plain": [
       "<ipykernel.iostream.OutStream at 0x10ae32c88>"
      ]
     },
     "execution_count": 29,
     "metadata": {},
     "output_type": "execute_result"
    }
   ],
   "source": [
    "sys.stdout"
   ]
  },
  {
   "cell_type": "code",
   "execution_count": 36,
   "metadata": {},
   "outputs": [
    {
     "name": "stdout",
     "output_type": "stream",
     "text": [
      "紅茶超可愛~~~~\n",
      "紅茶超可愛~~~~\n",
      "紅茶超可愛~~~~\n",
      "\n"
     ]
    }
   ],
   "source": [
    "texts = \"紅茶超可愛~~~~\"\n",
    "tex1 = \"\"\n",
    "for i in range(3):\n",
    "    tex1 += texts+\"\\n\"\n",
    "print(tex1)"
   ]
  },
  {
   "cell_type": "code",
   "execution_count": 66,
   "metadata": {},
   "outputs": [],
   "source": [
    "datadict = {\"早\":{1:[],2:[]},\"晚\":{1:[],2:[]}}"
   ]
  },
  {
   "cell_type": "code",
   "execution_count": 67,
   "metadata": {},
   "outputs": [],
   "source": [
    "dataDF = pd.DataFrame(datadict)"
   ]
  },
  {
   "cell_type": "code",
   "execution_count": 68,
   "metadata": {},
   "outputs": [],
   "source": [
    "dataDF.to_json(\"datadict.json\")"
   ]
  },
  {
   "cell_type": "code",
   "execution_count": 69,
   "metadata": {},
   "outputs": [],
   "source": [
    "dfjson = pd.read_json(\"datadict.json\")"
   ]
  },
  {
   "cell_type": "code",
   "execution_count": 70,
   "metadata": {},
   "outputs": [
    {
     "data": {
      "text/html": [
       "<div>\n",
       "<style scoped>\n",
       "    .dataframe tbody tr th:only-of-type {\n",
       "        vertical-align: middle;\n",
       "    }\n",
       "\n",
       "    .dataframe tbody tr th {\n",
       "        vertical-align: top;\n",
       "    }\n",
       "\n",
       "    .dataframe thead th {\n",
       "        text-align: right;\n",
       "    }\n",
       "</style>\n",
       "<table border=\"1\" class=\"dataframe\">\n",
       "  <thead>\n",
       "    <tr style=\"text-align: right;\">\n",
       "      <th></th>\n",
       "      <th>早</th>\n",
       "      <th>晚</th>\n",
       "    </tr>\n",
       "  </thead>\n",
       "  <tbody>\n",
       "    <tr>\n",
       "      <th>1</th>\n",
       "      <td>[]</td>\n",
       "      <td>[]</td>\n",
       "    </tr>\n",
       "    <tr>\n",
       "      <th>2</th>\n",
       "      <td>[]</td>\n",
       "      <td>[]</td>\n",
       "    </tr>\n",
       "  </tbody>\n",
       "</table>\n",
       "</div>"
      ],
      "text/plain": [
       "    早   晚\n",
       "1  []  []\n",
       "2  []  []"
      ]
     },
     "execution_count": 70,
     "metadata": {},
     "output_type": "execute_result"
    }
   ],
   "source": [
    "dfjson"
   ]
  },
  {
   "cell_type": "code",
   "execution_count": 77,
   "metadata": {},
   "outputs": [],
   "source": [
    "imp = \"晚 2 腸伯\""
   ]
  },
  {
   "cell_type": "code",
   "execution_count": 78,
   "metadata": {},
   "outputs": [],
   "source": [
    "one = imp.split(\" \")\n",
    "dfjson[one[0]][int(one[1])].append(one[2])"
   ]
  },
  {
   "cell_type": "code",
   "execution_count": 83,
   "metadata": {},
   "outputs": [
    {
     "data": {
      "text/plain": [
       "3"
      ]
     },
     "execution_count": 83,
     "metadata": {},
     "output_type": "execute_result"
    }
   ],
   "source": [
    "len(one)"
   ]
  },
  {
   "cell_type": "code",
   "execution_count": 16,
   "metadata": {},
   "outputs": [],
   "source": [
    "import json\n",
    "import codecs"
   ]
  },
  {
   "cell_type": "code",
   "execution_count": 21,
   "metadata": {},
   "outputs": [],
   "source": []
  },
  {
   "cell_type": "code",
   "execution_count": 50,
   "metadata": {},
   "outputs": [
    {
     "data": {
      "text/plain": [
       "['小龍', '紅茶', '腸伯']"
      ]
     },
     "execution_count": 50,
     "metadata": {},
     "output_type": "execute_result"
    }
   ],
   "source": [
    "dataDF[\"早\"][1]"
   ]
  },
  {
   "cell_type": "code",
   "execution_count": 81,
   "metadata": {},
   "outputs": [
    {
     "name": "stdout",
     "output_type": "stream",
     "text": [
      "早\n",
      "----------\n",
      "1 團\n",
      "----------\n",
      "1 . 小龍\n",
      "----------\n",
      "2 團\n",
      "----------\n",
      "1 . 小龍\n",
      "----------\n",
      "晚\n",
      "----------\n",
      "1 團\n",
      "----------\n",
      "2 團\n",
      "----------\n",
      "1 . 腸伯\n",
      "----------\n"
     ]
    }
   ],
   "source": [
    "lines = \"\"\n",
    "for i in list(dfjson):\n",
    "    lines+=i+\"\\n\"\n",
    "    print(i)\n",
    "    lines+=\"----------\\n\"\n",
    "    print(\"----------\")\n",
    "    for j in range(1,3):\n",
    "        lines+=str(j)+\"團\\n\"\n",
    "        print(j,\"團\")\n",
    "        lines+=\"----------\\n\"\n",
    "        print(\"----------\")\n",
    "        for n,x in enumerate(dfjson[i][j]):\n",
    "            lines+=str(n+1)+\".\"+x+\"\\n\"\n",
    "            print(n+1,\".\",x)\n",
    "            if n ==len(dfjson[i][j])-1:\n",
    "                lines+=\"----------\\n\"\n",
    "                print(\"----------\")"
   ]
  },
  {
   "cell_type": "code",
   "execution_count": 82,
   "metadata": {},
   "outputs": [
    {
     "name": "stdout",
     "output_type": "stream",
     "text": [
      "早\n",
      "----------\n",
      "1團\n",
      "----------\n",
      "1.小龍\n",
      "----------\n",
      "2團\n",
      "----------\n",
      "1.小龍\n",
      "----------\n",
      "晚\n",
      "----------\n",
      "1團\n",
      "----------\n",
      "2團\n",
      "----------\n",
      "1.腸伯\n",
      "----------\n",
      "\n"
     ]
    }
   ],
   "source": [
    "print(lines)"
   ]
  },
  {
   "cell_type": "code",
   "execution_count": 84,
   "metadata": {},
   "outputs": [
    {
     "name": "stdout",
     "output_type": "stream",
     "text": [
      "☻ ☺ ☼ ☻ ☺ ☼ ☻ ☺ ☼ ☻ ☺ ☼ ☻ ☺ ☼ ☻ ☺ ☼\n"
     ]
    }
   ],
   "source": [
    "print(\"☻ ☺ ☼ ☻ ☺ ☼ ☻ ☺ ☼ ☻ ☺ ☼ ☻ ☺ ☼ ☻ ☺ ☼\")"
   ]
  },
  {
   "cell_type": "code",
   "execution_count": null,
   "metadata": {},
   "outputs": [],
   "source": []
  }
 ],
 "metadata": {
  "kernelspec": {
   "display_name": "Python 3",
   "language": "python",
   "name": "python3"
  },
  "language_info": {
   "codemirror_mode": {
    "name": "ipython",
    "version": 3
   },
   "file_extension": ".py",
   "mimetype": "text/x-python",
   "name": "python",
   "nbconvert_exporter": "python",
   "pygments_lexer": "ipython3",
   "version": "3.5.4"
  }
 },
 "nbformat": 4,
 "nbformat_minor": 2
}
